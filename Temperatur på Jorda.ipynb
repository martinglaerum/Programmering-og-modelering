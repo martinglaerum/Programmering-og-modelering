{
 "cells": [
  {
   "cell_type": "markdown",
   "metadata": {},
   "source": [
    "# Modell 1\n",
    "\n",
    "For å regne ut mengden varmestråling som treffer jorda som må vi se på hvor mye av varmestrålingen sola sender ut som treffer jorda. For å finne ut dette bruker vi først Stefan-boltzmannslov for sola for å finne ut hvor mye stråling sola sender ut.\n",
    "\n",
    "$$ S(sola) = σ * T^4(sola) $$\n",
    "\n",
    "Videre regner vi ut hvor mye av denne strålingen som treffer jorda. Dette gjør vi ved å se på solens stråling og avstanden fra jorda og sola. Vi kan se på det som om strålingen til sola er likt fordelt rundt hele sola. Dermed må vi dele strålingen på radiusen til sola og så gange med avstanden fra sola til jorda for å finne ut hvor mye stråling som treffer jorda.\n",
    "$$ S(jorda) = \\frac{r^2(sola) * S(sola)}{d^2}$$\n",
    "\n",
    "Strålingen vi nå har kommet fram til er oppgitt i W/m^2. Videre kan vi finne den totale mengden stråling som treffer Jorda. Hvis man ser strålingen som treffer jorda fra solas perspektiv vil det se ut som om jorda er en sirkel og ikke en kule. Når vi da skal regne ut overflatearelaet som som strålingen treffer later vi som det er en sirkel og ikke en halvkule. Den totale strålingen som treffer jorda blir derfor:\n",
    "\n",
    "$$ S(Tjorda) = S(jorda) * \\pi * r^2(jorda) $$"
   ]
  },
  {
   "cell_type": "markdown",
   "metadata": {},
   "source": [
    "# Modell 2\n",
    "\n",
    "Får å finne temperaturen til jorda kan vi sette opp et linkning. Vi vet at stråling absorbert = stråling emmitert. Ved å lage et uttryk for disse to kan man komme fram til en formel for temperaturen på jorda. Først tar vi for oss ståling absorbert. Stråling absorbert vil være S(Tjorda) siden dette er strålingen jorda absorberer fra sola. \n",
    "\n",
    "$$ E_{absorbert} =  S(Tjorda) =  S(jorda) * \\pi * r^2(jorda)$$\n",
    "\n",
    "Strålingen emmitert er kan vi regne oss fram til ved hjelp av stefan-botzmannslov. Stefan-Boltzmannslov sier oss hvor mye stråling et objekt sender ut i W/m^2. Hvis vi bruker denne loven og ganger med overflaten av en kule vil vi få strålingen som blir emmitert fra jorda.\n",
    "\n",
    "$$ S(jorda) = σ * T^4(jorda) $$\n",
    "\n",
    "$$ E_{emmitert} = 4*\\pi*r^2(jorda)* σ * T^4(jorda)$$\n",
    "\n",
    "På grunn av at stråling inn er lik stråling ut betyr det at utrykkene over er like. Vi setter de to likningene lik hverandre og løser med hensyn på T som da er temperaturen til jorda.\n",
    "\n",
    "$$ S(jorda) * \\pi * r^2(jorda) = 4*\\pi*r^2(jorda)* σ * T^4(jorda)$$\n",
    "\n",
    "$$ S(jorda)= 4 * σ * T^4(jorda) $$\n",
    "\n",
    "$$ T =  \\sqrt[4]{\\frac{S(jorda)}{4*σ}} $$\n",
    "\n",
    "Men nå er det slik at ikke all strålingen sola sender ut blir absorbert. Det er nemlig slik at ca. 30% av all strålingen som sola sender ut blir reflektert av jordoverflaten og sendt tilbake ut i verdensrommet. Det betyr at jorda absorberer 70% av strålingen eller (1-30%). Tallet på hvor mye stråling som blir reflektert kaller man albedo. For å gjøre formelen vår mer nøyaktig kan vi derfor utvide formelen vår ved å bruke albedo. Det gjør vi ganske enkelt ved å gange strålingen som blir absorbert med (1-albedo).\n",
    "\n",
    "$$ T =  \\sqrt[4]{\\frac{S(jorda) * (1-albedo)}{4*σ}} $$\n",
    "\n"
   ]
  },
  {
   "attachments": {
    "image.png": {
     "image/png": "[encoded data removed]"
    }
   },
   "cell_type": "markdown",
   "metadata": {},
   "source": [
    "# Modell 3\n",
    " \n",
    "For å gjøre modellen vår enda bedre kan vi videre regne med atmosfæren. Det er nemlig slik at atmosfæren reflekterer mye av strålingen som jorda sender ut. Vi lager en enkel figur for hvordan atmosfæren påvirker strålingen som blir reflektert ut fra jorda. Får å gjøre det lettere for oss selv later vi som om atmosfæren absorberer all stralingen som jorda reflekterer og at den ikke absorberer noe av strålingen sola sender ut. Som med jorda later vi som om atmosfæren har en konstant temperatur.![image.png](attachment:image.png)\n",
    "\n",
    "Vi lager to likninger utifra figuren. Den første sier noe om hvor mye av stålingen som går inn og ut av systemet. Dette vil være pil 1 og pil 2 som peker oppover. Hvis vi setter opp en likning for dette får vi:\n",
    "\n",
    "$$ S(jorda)*(1−albedo)=σ*T^4(atmosfæren) $$\n",
    "\n",
    "Så setter vi opp en likning får hvor mye varmestråling som går inn og ut fra jordoverflaten. Inn i jordoverflaten får vi pil 1 + pil 2 som peker nedover og ut får vi pil 3. Likningen ser da slik ut.\n",
    "\n",
    "$$ S(jorda)*(1−albedo) + σ*T^4(atmosfæren) =σ*T^4(Jorda) $$\n",
    "\n",
    "Hvis vi løser dette med hensyn på temperaturen på Jorda får vi:\n",
    "\n",
    "$$T(Jorda) = \\sqrt[4]{\\frac{S(jorda) * (1.4)}{σ}}$$\n",
    "\n",
    "At vi får 1.4 kommer av at (1-albedo) er lik tallet 0.7. Når vi løser likningen ender vi opp med (1-albedo) + (1-albedo) som er lik 0.7 + 0.7. "
   ]
  },
  {
   "cell_type": "markdown",
   "metadata": {},
   "source": [
    "# Resultat 1"
   ]
  },
  {
   "cell_type": "code",
   "execution_count": 3,
   "metadata": {
    "scrolled": true
   },
   "outputs": [
    {
     "name": "stdout",
     "output_type": "stream",
     "text": [
      "Gjennomsittlig varmestråling som treffer vertikalt på jorda er 1361.9255804854868\n",
      "Den totale mengden stråling som treffer vertikalt på jorda er 1.7366746299769043e+17\n"
     ]
    }
   ],
   "source": [
    "from math import*\n",
    "\n",
    "T_sola = 5778\n",
    "σ = 5.67*10**(-8)\n",
    "r_sola = 696340000\n",
    "r_jorda = 6371*10**3\n",
    "d = 1.5*10**11\n",
    "\n",
    "S_sola = σ*T_sola**4\n",
    "\n",
    "S_jorda = ((r_sola**2/d**2) * S_sola)\n",
    "\n",
    "ST_jorda = (S_jorda * pi * r_jorda**2)\n",
    "\n",
    "print(\"Gjennomsittlig varmestråling som treffer vertikalt på jorda er\",S_jorda)\n",
    "\n",
    "print(\"Den totale mengden stråling som treffer vertikalt på jorda er\", ST_jorda)"
   ]
  },
  {
   "cell_type": "markdown",
   "metadata": {},
   "source": [
    "# Resultat 2"
   ]
  },
  {
   "cell_type": "code",
   "execution_count": 15,
   "metadata": {},
   "outputs": [
    {
     "name": "stdout",
     "output_type": "stream",
     "text": [
      "Temperaturen på Jorden er: 5.373302482835072 °C\n",
      "Temperaturen på Jorden medberegnet refleksjon er: -18.374384551257435 °C\n"
     ]
    }
   ],
   "source": [
    "T_jorda = ((S_jorda)/(4*σ))**(1/4)\n",
    "\n",
    "print(\"Temperaturen på jorden er:\",T_jorda-273,\"°C\")\n",
    "\n",
    "albedo = 0.3\n",
    "\n",
    "T_jorda = ((S_jorda* (1-albedo))/(4*σ))**(1/4)\n",
    "\n",
    "print(\"Temperaturen på jorden medberegnet refleksjon er:\",T_jorda-273,\"C°\")"
   ]
  },
  {
   "cell_type": "markdown",
   "metadata": {},
   "source": [
    "Som vi ser er begge temperaturene ganske forskjellige fra den gjennomslittlige temperaturen som er på jorda. Den er nemlig ca. 15 °C. Dette er ikke så veldig overaskende siden vi ikke har tatt høyde for andre ulike faktorer som påvirker strålingen som f.eks atmosfæren/drivhuseffekten."
   ]
  },
  {
   "cell_type": "markdown",
   "metadata": {},
   "source": [
    "# Resultat 3"
   ]
  },
  {
   "cell_type": "code",
   "execution_count": 25,
   "metadata": {},
   "outputs": [
    {
     "name": "stdout",
     "output_type": "stream",
     "text": [
      "Temperaturen på Jorden medberegnet atmosfæren er 155.22753452523693 C°\n"
     ]
    }
   ],
   "source": [
    "T_jorda = ((S_jorda*1.4)/(σ))**(1/4)\n",
    "\n",
    "print(\"Temperaturen på Jorden medberegnet atmosfæren er\",T_jorda-273,\"C°\")"
   ]
  },
  {
   "cell_type": "markdown",
   "metadata": {},
   "source": [
    "Temperaturen her er mye høyere enn den gjennomsnittligige temperaturen på jorda. Nok en gang er ikke dette så veldig uventet da det er mange ulike momenter modellen ikke tar høyde for eller at det er mange steder vi gjør forenklinger."
   ]
  },
  {
   "cell_type": "code",
   "execution_count": null,
   "metadata": {},
   "outputs": [],
   "source": []
  }
 ],
 "metadata": {
  "kernelspec": {
   "display_name": "Python 3",
   "language": "python",
   "name": "python3"
  },
  "language_info": {
   "codemirror_mode": {
    "name": "ipython",
    "version": 3
   },
   "file_extension": ".py",
   "mimetype": "text/x-python",
   "name": "python",
   "nbconvert_exporter": "python",
   "pygments_lexer": "ipython3",
   "version": "3.8.3"
  }
 },
 "nbformat": 4,
 "nbformat_minor": 4
}
